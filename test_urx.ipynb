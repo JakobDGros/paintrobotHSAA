{
 "cells": [
  {
   "cell_type": "code",
   "execution_count": 4,
   "metadata": {},
   "outputs": [],
   "source": [
    "import numpy as np\n",
    "import math3d as m3d\n",
    "import math\n",
    "import sys\n",
    "import urx\n",
    "from time import sleep\n",
    "from svgpathtools import svg2paths, Arc, Line, QuadraticBezier, CubicBezier"
   ]
  },
  {
   "cell_type": "code",
   "execution_count": 7,
   "metadata": {},
   "outputs": [],
   "source": [
    "np.set_printoptions(precision=3)\n",
    "r = urx.Robot(\"192.168.1.3\", use_rt=False)\n",
    "r.set_tcp((0, 0, 0.15, 0, 0, 0))\n",
    "r.set_payload(0.1)\n",
    "sleep(0.2)"
   ]
  },
  {
   "cell_type": "code",
   "execution_count": 12,
   "metadata": {},
   "outputs": [
    {
     "ename": "RobotException",
     "evalue": "Robot stopped",
     "output_type": "error",
     "traceback": [
      "\u001b[31m---------------------------------------------------------------------------\u001b[39m",
      "\u001b[31mRobotException\u001b[39m                            Traceback (most recent call last)",
      "\u001b[36mCell\u001b[39m\u001b[36m \u001b[39m\u001b[32mIn[12]\u001b[39m\u001b[32m, line 1\u001b[39m\n\u001b[32m----> \u001b[39m\u001b[32m1\u001b[39m \u001b[43mr\u001b[49m\u001b[43m.\u001b[49m\u001b[43mmovej\u001b[49m\u001b[43m(\u001b[49m\u001b[43m \u001b[49m\u001b[43m(\u001b[49m\u001b[32;43m0\u001b[39;49m\u001b[43m,\u001b[49m\u001b[43m \u001b[49m\u001b[43m-\u001b[49m\u001b[43mmath\u001b[49m\u001b[43m.\u001b[49m\u001b[43mpi\u001b[49m\u001b[43m/\u001b[49m\u001b[32;43m2\u001b[39;49m\u001b[43m,\u001b[49m\u001b[43m  \u001b[49m\u001b[32;43m0\u001b[39;49m\u001b[43m,\u001b[49m\u001b[43m \u001b[49m\u001b[43m-\u001b[49m\u001b[43mmath\u001b[49m\u001b[43m.\u001b[49m\u001b[43mpi\u001b[49m\u001b[43m/\u001b[49m\u001b[32;43m2\u001b[39;49m\u001b[43m,\u001b[49m\u001b[43m \u001b[49m\u001b[32;43m0\u001b[39;49m\u001b[43m,\u001b[49m\u001b[43m \u001b[49m\u001b[32;43m0\u001b[39;49m\u001b[43m)\u001b[49m\u001b[43m,\u001b[49m\u001b[43m \u001b[49m\u001b[43macc\u001b[49m\u001b[43m=\u001b[49m\u001b[32;43m0.9\u001b[39;49m\u001b[43m,\u001b[49m\u001b[43m \u001b[49m\u001b[43mvel\u001b[49m\u001b[43m=\u001b[49m\u001b[32;43m0.2\u001b[39;49m\u001b[43m,\u001b[49m\u001b[43m \u001b[49m\u001b[43mthreshold\u001b[49m\u001b[43m=\u001b[49m\u001b[32;43m0.001\u001b[39;49m\u001b[43m)\u001b[49m \u001b[38;5;66;03m# URRobot.movej(self, joints, acc, vel, wait, relative, threshold)     \u001b[39;00m\n",
      "\u001b[36mFile \u001b[39m\u001b[32m~/workspace/paintrobot/.venv/lib/python3.12/site-packages/urx/urrobot.py:277\u001b[39m, in \u001b[36mURRobot.movej\u001b[39m\u001b[34m(self, joints, acc, vel, wait, relative, threshold)\u001b[39m\n\u001b[32m    275\u001b[39m \u001b[38;5;28mself\u001b[39m.send_program(prog)\n\u001b[32m    276\u001b[39m \u001b[38;5;28;01mif\u001b[39;00m wait:\n\u001b[32m--> \u001b[39m\u001b[32m277\u001b[39m     \u001b[38;5;28;43mself\u001b[39;49m\u001b[43m.\u001b[49m\u001b[43m_wait_for_move\u001b[49m\u001b[43m(\u001b[49m\u001b[43mjoints\u001b[49m\u001b[43m[\u001b[49m\u001b[43m:\u001b[49m\u001b[32;43m6\u001b[39;49m\u001b[43m]\u001b[49m\u001b[43m,\u001b[49m\u001b[43m \u001b[49m\u001b[43mthreshold\u001b[49m\u001b[43m=\u001b[49m\u001b[43mthreshold\u001b[49m\u001b[43m,\u001b[49m\u001b[43m \u001b[49m\u001b[43mjoints\u001b[49m\u001b[43m=\u001b[49m\u001b[38;5;28;43;01mTrue\u001b[39;49;00m\u001b[43m)\u001b[49m\n\u001b[32m    278\u001b[39m     \u001b[38;5;28;01mreturn\u001b[39;00m \u001b[38;5;28mself\u001b[39m.getj()\n",
      "\u001b[36mFile \u001b[39m\u001b[32m~/workspace/paintrobot/.venv/lib/python3.12/site-packages/urx/urrobot.py:217\u001b[39m, in \u001b[36mURRobot._wait_for_move\u001b[39m\u001b[34m(self, target, threshold, timeout, joints)\u001b[39m\n\u001b[32m    215\u001b[39m \u001b[38;5;28;01mwhile\u001b[39;00m \u001b[38;5;28;01mTrue\u001b[39;00m:\n\u001b[32m    216\u001b[39m     \u001b[38;5;28;01mif\u001b[39;00m \u001b[38;5;129;01mnot\u001b[39;00m \u001b[38;5;28mself\u001b[39m.is_running():\n\u001b[32m--> \u001b[39m\u001b[32m217\u001b[39m         \u001b[38;5;28;01mraise\u001b[39;00m RobotException(\u001b[33m\"\u001b[39m\u001b[33mRobot stopped\u001b[39m\u001b[33m\"\u001b[39m)\n\u001b[32m    218\u001b[39m     dist = \u001b[38;5;28mself\u001b[39m._get_dist(target, joints)\n\u001b[32m    219\u001b[39m     \u001b[38;5;28mself\u001b[39m.logger.debug(\u001b[33m\"\u001b[39m\u001b[33mdistance to target is: \u001b[39m\u001b[38;5;132;01m%s\u001b[39;00m\u001b[33m, target dist is \u001b[39m\u001b[38;5;132;01m%s\u001b[39;00m\u001b[33m\"\u001b[39m, dist, threshold)\n",
      "\u001b[31mRobotException\u001b[39m: Robot stopped"
     ]
    }
   ],
   "source": [
    "r.movej( (0, -math.pi/2,  0, -math.pi/2, 0, 0), acc=0.9, vel=0.2, threshold=0.001) # URRobot.movej(self, joints, acc, vel, wait, relative, threshold)     "
   ]
  },
  {
   "cell_type": "code",
   "execution_count": null,
   "metadata": {},
   "outputs": [],
   "source": []
  }
 ],
 "metadata": {
  "kernelspec": {
   "display_name": ".venv",
   "language": "python",
   "name": "python3"
  },
  "language_info": {
   "codemirror_mode": {
    "name": "ipython",
    "version": 3
   },
   "file_extension": ".py",
   "mimetype": "text/x-python",
   "name": "python",
   "nbconvert_exporter": "python",
   "pygments_lexer": "ipython3",
   "version": "3.12.10"
  }
 },
 "nbformat": 4,
 "nbformat_minor": 2
}
