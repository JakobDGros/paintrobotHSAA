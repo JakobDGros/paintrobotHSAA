{
 "cells": [
  {
   "cell_type": "code",
   "execution_count": null,
   "metadata": {},
   "outputs": [],
   "source": [
    "# %pip install numpy\n",
    "# %pip install math3d\n",
    "# %pip install svgpathtools\n",
    "# %pip install ipywidgets"
   ]
  },
  {
   "cell_type": "code",
   "execution_count": 31,
   "metadata": {
    "scrolled": true
   },
   "outputs": [],
   "source": [
    "import numpy as np\n",
    "import math3d as m3d\n",
    "import math\n",
    "import sys\n",
    "from time import sleep\n",
    "from svgpathtools import svg2paths, Arc, Line, QuadraticBezier, CubicBezier\n",
    "\n",
    "\n",
    "# import urx module via local path from https://github.com/jkur/python-urx\n",
    "\n",
    "import sys\n",
    "import os\n",
    "\n",
    "sys.path.append(os.path.abspath(\"../python-urx\"))\n",
    "\n",
    "import urx\n"
   ]
  },
  {
   "cell_type": "code",
   "execution_count": 32,
   "metadata": {
    "scrolled": true
   },
   "outputs": [],
   "source": [
    "# Connect to the robot \n",
    "# ! Sometimes the robot does not connect properly, so you need to run the script multiple times\n",
    "\n",
    "np.set_printoptions(precision=3)\n",
    "r = urx.Robot(\"192.168.1.3\", use_rt=False)\n",
    "r.set_tcp((0, 0, 0.15, 0, 0, 0))\n",
    "r.set_payload(0.1)\n",
    "sleep(0.2)"
   ]
  },
  {
   "cell_type": "code",
   "execution_count": 33,
   "metadata": {},
   "outputs": [],
   "source": [
    "a = 0.1 # Acceleration m/s^2\n",
    "v = 0.2 #0.3 velocity m/s\n",
    "hover = 0.02 # hover over canvas while not painting\n",
    "feed = 0.001 # Brush-Feedrate in m/m, 0.003 for Baumarkt Brush\n",
    "offset = 0.003 # Brush-Pressure in m (0.008 for Baumarkt Brush, 0.005 fuer Medium)\n",
    "\n",
    "paint_depth = 0.100 # Immersion depth from position above paint in m, \n",
    "in_paint_duration = 0.5 # Brush in the paint in s, for Baumarkt Brush 0.5\n",
    "drop_off_duration = 1 # 1 dripping phase in s, for Baumarkt Brush 1\n",
    "\n",
    "r.set_csys(m3d.Transform()) # This command sets the robot’s coordinate system back to the origin with no rotation"
   ]
  },
  {
   "cell_type": "code",
   "execution_count": 34,
   "metadata": {},
   "outputs": [],
   "source": [
    "# Joint configurations:\n",
    "# Make sure that a free path exists between any of those!\n",
    "j_home         = ( 0    , -math.pi/2,  0, -math.pi/2, 0, 0)\n",
    "j_paint_above  = (-1.257, -1.332, -2.315, -1.065, 1.571,  0.313)\n",
    "j_canvas_above = (-0.671, -1.464, -1.975,  0.026, 2.302, -0.169)\n",
    "j_brush_change = (0.0, -0.725, -2.153, -1.570, 0, 0)"
   ]
  },
  {
   "cell_type": "code",
   "execution_count": 35,
   "metadata": {},
   "outputs": [],
   "source": [
    "# Canvas coordinates (base csys):\n",
    "# p0 ---------> px\n",
    "# |\n",
    "# |\n",
    "# v\n",
    "# py\n",
    "\n",
    "# Tranform(vector, orientation) for old setting\n",
    "#p0 = m3d.Transform(( 0.503,  0.237,  0.677, -1.497,  1.332, -1.134))\n",
    "#px = m3d.Transform(( 0.501, -0.509,  0.669, -1.497,  1.332, -1.134))\n",
    "#py = m3d.Transform(( 0.399,  0.242,  0.137, -1.497,  1.333, -1.134))\n",
    "\n",
    "#small brushes\n",
    "p0 = m3d.Transform(( 0.534,  0.230,  0.677, -1.497,  1.332, -1.134))\n",
    "px = m3d.Transform(( 0.549, -0.509,  0.669, -1.497,  1.332, -1.134))\n",
    "py = m3d.Transform(( 0.430,  0.230,  0.137, -1.497,  1.333, -1.134))"
   ]
  },
  {
   "cell_type": "code",
   "execution_count": 36,
   "metadata": {},
   "outputs": [
    {
     "name": "stdout",
     "output_type": "stream",
     "text": [
      "Warning: Orthonormalizing y_vec on x_vec!\n"
     ]
    }
   ],
   "source": [
    "#r.movep(p0, vel=v)\n",
    "#r.movep(px, vel=v)\n",
    "#r.movep(py, vel=v)\n",
    "\n",
    "# This sets up a custom coorinate system for the canvas\n",
    "\n",
    "cx = px.pos - p0.pos\n",
    "cy = py.pos - p0.pos\n",
    "canvas_coordinates = m3d.Transform.new_from_xyp(cx, cy, p0.pos)\n"
   ]
  },
  {
   "cell_type": "code",
   "execution_count": 37,
   "metadata": {},
   "outputs": [],
   "source": [
    "# Paint pot coordinates:\n",
    "paint = {\"red\":    (-0.12, -0.280, 0.08, 0, np.pi, 0),\n",
    "         \"yellow\": (-0.04, -0.280, 0.08, 0, np.pi, 0),\n",
    "         \"blue\":   ( 0.04, -0.280, 0.08, 0, np.pi, 0),\n",
    "         \"black\":  ( 0.12, -0.285, 0.08, 0, np.pi, 0)}"
   ]
  },
  {
   "cell_type": "code",
   "execution_count": 38,
   "metadata": {},
   "outputs": [],
   "source": [
    "# Paint drop removal coordinates:\n",
    "mesh  = {\"red\":    m3d.Vector(-0.12, -0.40, 0.057),\n",
    "         \"yellow\": m3d.Vector(-0.04, -0.40, 0.055),\n",
    "         \"blue\":   m3d.Vector( 0.04, -0.40, 0.054),\n",
    "         \"black\":  m3d.Vector( 0.12, -0.40, 0.053)}"
   ]
  },
  {
   "cell_type": "code",
   "execution_count": 39,
   "metadata": {},
   "outputs": [],
   "source": [
    "# Brush calibration point\n",
    "brush_calib_above = (-0.168, -0.315, 0.08, 0, np.pi, 0)\n",
    "brush_calib_down  = (-0.168, -0.315, 0.027, 0, np.pi, 0)\n"
   ]
  },
  {
   "cell_type": "code",
   "execution_count": 40,
   "metadata": {},
   "outputs": [],
   "source": [
    "def brush_transform(index, angle, length):\n",
    "    rot = m3d.Orientation.new_rot_z(index * np.pi / 2)\n",
    "    rot.rotate_x(angle)\n",
    "    vec = m3d.Transform(rot, (0, 0, 0)) * m3d.Vector(0, 0, length)\n",
    "    return m3d.Transform(rot, vec)"
   ]
  },
  {
   "cell_type": "code",
   "execution_count": 41,
   "metadata": {},
   "outputs": [],
   "source": [
    "# Brush calibration parameters\n",
    "\n",
    "# Old brush holder    \n",
    "#brush = {\"red\":    brush_transform(-1, 24 * np.pi / 180, 0.148),\n",
    "#         \"yellow\": brush_transform( 0, 19 * np.pi / 180, 0.145),\n",
    "#         \"blue\":   brush_transform( 1, 20 * np.pi / 180, 0.145),\n",
    "#         \"black\":  brush_transform( 2, 24 * np.pi / 180, 0.147)}\n",
    "# New brush holder\n",
    "#brush = {\"red\":    brush_transform(-1, 32 * np.pi / 180, 0.144),\n",
    "#         \"yellow\": brush_transform( 0, 33 * np.pi / 180, 0.148),\n",
    "#         \"blue\":   brush_transform( 1, 30 * np.pi / 180, 0.144),\n",
    "#         \"black\":  brush_transform( 2, 31 * np.pi / 180, 0.144)}\n",
    "\n",
    "# Medium size brush holder\n",
    "#brush = {\"red\":    brush_transform(-1, 25 * np.pi / 180, 0.140),\n",
    "#         \"yellow\": brush_transform( 0, 25 * np.pi / 180, 0.140),\n",
    "#         \"blue\":   brush_transform( 1, 26 * np.pi / 180, 0.140),\n",
    "#         \"black\":  brush_transform( 2, 25 * np.pi / 180, 0.140)}\n",
    "\n",
    "# Small size brush holder\n",
    "brush = {\"red\":    brush_transform(-0.935, 28.0 * np.pi / 180, 0.140),\n",
    "         \"yellow\": brush_transform( 0.09, 27 * np.pi / 180, 0.138),\n",
    "         \"blue\":   brush_transform( 1, 29 * np.pi / 180, 0.139),\n",
    "         \"black\":  brush_transform( 2.1, 29 * np.pi / 180, 0.139)}\n",
    "#%%"
   ]
  },
  {
   "cell_type": "code",
   "execution_count": 42,
   "metadata": {},
   "outputs": [],
   "source": [
    "#p = r.getl()\n",
    "#print \"Start tool pose is: \", np.array(p)\n",
    "#print \"Joint space: \", np.array(r.getj()) * 180 / math.pi\n",
    "\n",
    "#print \"Move to home\"\n",
    "#r.movej(j_home, acc=1.0, vel=v)\n"
   ]
  },
  {
   "cell_type": "code",
   "execution_count": 43,
   "metadata": {},
   "outputs": [],
   "source": [
    "def move_home():\n",
    "    print(\"Move to home\")\n",
    "    r.movej(j_home, acc=0.9, vel=v, threshold=0.001) # URRobot.movej(self, joints, acc, vel, wait, relative, threshold)"
   ]
  },
  {
   "cell_type": "code",
   "execution_count": 44,
   "metadata": {},
   "outputs": [],
   "source": [
    "def move_to_canvas():\n",
    "    print(\"Move to canvas\")\n",
    "    j = r.getj() # Keep orientation of last joint\n",
    "    r.movej(j_canvas_above[:5] + (j[5],), acc=a, vel=v)"
   ]
  },
  {
   "cell_type": "code",
   "execution_count": 45,
   "metadata": {},
   "outputs": [],
   "source": [
    "def move_to_paint():\n",
    "    print(\"Move to paint\")\n",
    "    r.movej(j_paint_above, acc=a, vel=v)\n",
    "    #j = r.getj() # Keep orientation of last joint\n",
    "    #r.movej(j_paint_above[:5] + (j[5],), acc=a, vel=v)"
   ]
  },
  {
   "cell_type": "code",
   "execution_count": 46,
   "metadata": {},
   "outputs": [],
   "source": [
    "def move_to_brush_change():\n",
    "    print(\"Move to brush change\")\n",
    "    r.movej(j_brush_change, acc=a, vel=v)"
   ]
  },
  {
   "cell_type": "code",
   "execution_count": 75,
   "metadata": {},
   "outputs": [],
   "source": [
    "def move_to_brush_calibration(stroke):\n",
    "    print(\"Set base coordiante system\")\n",
    "   # r.set_csys(m3d.Transform())\n",
    "\n",
    "    print(\"Calibrate brush\")\n",
    "    #   Move with no brush selected to avoid extreme rotations of last joint\n",
    "    r.set_tcp((0, 0, 0.15, 0, 0, 0))\n",
    "    print(\"  Move over calibration point\")\n",
    "    r.movej(brush_calib_above, acc=a, vel=v)\n",
    "    #   Select brush\n",
    "    r.set_tcp(brush[stroke])  # Convert PoseVector (Transform) to iterable\n",
    "    r.movel(brush_calib_above, acc=a, vel=v)\n",
    "    #   Move into color\n",
    "    print(\"  Move to calibration point\")\n",
    "    r.movel(brush_calib_above, acc=a/2, vel=v/4)\n",
    "\n"
   ]
  },
  {
   "cell_type": "code",
   "execution_count": 76,
   "metadata": {},
   "outputs": [],
   "source": [
    "def calibrate_brush(stroke):\n",
    "    move_to_brush_calibration(stroke)\n",
    "    #raw_input(\"Measure brush length and press enter to continue...\")\n",
    "    r.movel(brush_calib_above, acc=a, vel=v)"
   ]
  },
  {
   "cell_type": "code",
   "execution_count": 49,
   "metadata": {},
   "outputs": [],
   "source": [
    "def move_to_canvas_origin(stroke):\n",
    "    print(\"Set canvas coordinate system\")\n",
    "    r.set_csys(canvas_coordinates)\n",
    "    r.set_tcp(brush[stroke])\n",
    "    r.movel((0, 0, -hover, 0, 0, 0), acc=a, vel=v)"
   ]
  },
  {
   "cell_type": "code",
   "execution_count": 50,
   "metadata": {},
   "outputs": [],
   "source": [
    "def move_to_canvas_xaxis(stroke):\n",
    "    print(\"Set canvas coordinate system\")\n",
    "    r.set_csys(canvas_coordinates)\n",
    "    r.set_tcp(brush[stroke])\n",
    "    r.movel((0.75, 0, -hover, 0, 0, 0), acc=a, vel=v)"
   ]
  },
  {
   "cell_type": "code",
   "execution_count": 51,
   "metadata": {},
   "outputs": [],
   "source": [
    "def move_to_canvas_yaxis(stroke):\n",
    "    print(\"Set canvas coordinate system\")\n",
    "    r.set_csys(canvas_coordinates)\n",
    "    r.set_tcp(brush[stroke])\n",
    "    r.movel((0, 0.55, -hover, 0, 0, 0), acc=a, vel=v)"
   ]
  },
  {
   "cell_type": "code",
   "execution_count": 52,
   "metadata": {},
   "outputs": [],
   "source": [
    "def get_paint(stroke):\n",
    "    print(\"Set base coordinate system\")\n",
    "    r.set_csys(m3d.Transform())\n",
    "\n",
    "    # TODO check current position\n",
    "    print(\"  Distance to pots:\"), r._get_joints_dist(j_paint_above)\n",
    "\n",
    "    print(\"Get new paint\")\n",
    "    #   Move with no brush selected to avoid extreme rotations of last joint\n",
    "    r.set_tcp((0, 0, 0.15, 0, 0, 0))\n",
    "    print(\"  Move over color pot\")\n",
    "    r.movel(paint[stroke], acc=a, vel=v)\n",
    "    #   Measure color depth\n",
    "    \n",
    "    #   Select brush\n",
    "    r.set_tcp(brush[stroke])\n",
    "    r.movel(paint[stroke], acc=a, vel=v)\n",
    "    #   Move into color\n",
    "    print(\"  Move into color pot\")\n",
    "    r.down(z=paint_depth, acc=a/2, vel=v/3)\n",
    "    sleep(in_paint_duration)\n",
    "\n",
    "    print(\"  Move over color pot\")\n",
    "    r.movel(paint[stroke], acc=a, vel=v)\n",
    "    print(\"  Wait for color to drop off\")\n",
    "    sleep(drop_off_duration)\n",
    "    \n",
    "    print(\"  Remove paint from tip of brush\")\n",
    "    radius = 0.018\n",
    "    circle = [m3d.Transform(m3d.Orientation.new_rot_z(i * np.pi / 6), (0, 0, 0)) * m3d.Vector(-radius, -radius, 0) for i in range(8)]\n",
    "    circle = [m3d.Transform((0, np.pi, 0), mesh[stroke] + c) for c in circle]\n",
    "    circle.append(m3d.Transform(paint[stroke]))\n",
    "    r.movels(circle, acc=a, vel=v/4)"
   ]
  },
  {
   "cell_type": "code",
   "execution_count": 53,
   "metadata": {},
   "outputs": [],
   "source": [
    "def paint_path(path):\n",
    "    print(\"Set canvas coordinate system\")\n",
    "    r.set_csys(canvas_coordinates)\n",
    "\n",
    "    # TODO: check current position\n",
    "    print(\"  Distance to canvas:\"), r._get_joints_dist(j_canvas_above)\n",
    "\n",
    "    print(\"Paint path\")\n",
    "    for sub in path.continuous_subpaths():\n",
    "        print(\"  Paint continuous sub path with length %smm\") % (round(sub.length()))\n",
    "        r.movel((sub.start.real / 1e3, sub.start.imag / 1e3, -hover, 0, 0, 0), acc=a, vel=v)\n",
    "        poses = []\n",
    "        acc_dist = 0\n",
    "        for seg in sub:\n",
    "            if isinstance(seg, Line):\n",
    "                #print \"    \", seg, \"length:\", seg.length()\n",
    "                poses.append((seg.start.real / 1e3, seg.start.imag / 1e3, offset + feed * acc_dist / 1e3, 0, 0, 0))\n",
    "                acc_dist += seg.length()\n",
    "            elif isinstance(seg, Arc):\n",
    "                print(\"TODO: Arc is beta\")\n",
    "                \n",
    "                #print \"TODO: Arc is not supported, Line is used\"\n",
    "                #poses.append((seg.start.real / 1e3, seg.start.imag / 1e3, offset + feed * acc_dist / 1e3, 0, 0, 0))\n",
    "                #print seg\n",
    "                \n",
    "                step = min(10.0 / seg.length(), 0.5) # one point everz 10mm but at least two points\n",
    "                points = [seg.point(t) for t in np.arange(0, 1, step)]\n",
    "                poses.extend([(p.real / 1e3, p.imag / 1e3, offset + feed * acc_dist / 1e3, 0, 0, 0) for p in points])\n",
    "                \n",
    "                #This interactive demo might help you understand the concepts behind SVG arcs: http://codepen.io/lingtalfi/pen/yaLWJG (tested in chrome and firefox only, might not work in your browser)\n",
    "                #print seg\n",
    "                #print poses\n",
    "                # TODO acc_dist should be incremented from point to point\n",
    "                \n",
    "            elif isinstance(seg, QuadraticBezier):\n",
    "                print(\"TODO: QuadraticBezier is beta\")\n",
    "                step = min(10.0 / seg.length(), 0.5) # one point everz 10mm but at least two points\n",
    "                points = [seg.point(t) for t in np.arange(0, 1, step)]\n",
    "                poses.extend([(p.real / 1e3, p.imag / 1e3, offset + feed * acc_dist / 1e3, 0, 0, 0) for p in points])\n",
    "                # TODO acc_dist should be incremented from point to point\n",
    "\n",
    "            elif isinstance(seg, CubicBezier):\n",
    "                print(\"TODO: CubicBezier is beta\")\n",
    "                step = min(10.0 / seg.length(), 0.5) # one point everz 10mm but at least two points\n",
    "                points = [seg.point(t) for t in np.arange(0, 1, step)]\n",
    "                poses.extend([(p.real / 1e3, p.imag / 1e3, offset + feed * acc_dist / 1e3, 0, 0, 0) for p in points])\n",
    "                # TODO acc_dist should be incremented from point to point\n",
    "\n",
    "        poses.append((sub.end.real / 1e3, sub.end.imag / 1e3, offset, 0, 0, 0))\n",
    "        poses.append((sub.end.real / 1e3, sub.end.imag / 1e3, -hover, 0, 0, 0))\n",
    "        r.movels(poses, acc=a, vel=v/4, threshold=0.001)\n",
    "    # If we are on left side of canvas move to save position first\n",
    "    r.movel((0.6, 0.3, -hover, 0, 0, 0), acc=a, vel=v)"
   ]
  },
  {
   "cell_type": "code",
   "execution_count": 54,
   "metadata": {},
   "outputs": [],
   "source": [
    "def paint_svg(paths, attributes):\n",
    "    i = 0\n",
    "    for (path, attr) in zip(paths, attributes):\n",
    "        stroke = attr['stroke']\n",
    "        print(\"Path\", i, \"with color\", stroke, \"of length\"), round(path.length())\n",
    "\n",
    "        move_to_paint()\n",
    "        try:\n",
    "            get_paint(stroke)\n",
    "            move_to_canvas()\n",
    "            paint_path(path)\n",
    "        except Exception as e:\n",
    "            print(\"ERROR:\"), e\n",
    "            #raw_input(\"Press enter to continue... \")\n",
    "        #move_to_canvas()\n",
    "\n",
    "        i += 1"
   ]
  },
  {
   "cell_type": "code",
   "execution_count": 55,
   "metadata": {},
   "outputs": [
    {
     "name": "stdout",
     "output_type": "stream",
     "text": [
      "Move to home\n"
     ]
    }
   ],
   "source": [
    "# Room for trying something out and calibrating \n",
    "# If you start the script please run all blocks from above until here\n",
    "\n",
    "#print(r.x)\n",
    "move_home()\n",
    "\n",
    "#move_to_paint()\n",
    "#move_to_brush_calibration(\"red\") # \"red\", \"yellow\", \"blue\", \"black\"\n",
    "#move_to_brush_calibration(\"yellow\")\n",
    "#move_to_brush_calibration(\"blue\")\n",
    "#move_to_brush_calibration(\"black\")\n",
    "\n",
    "#move_home()\n",
    "\n",
    "#move_to_canvas()\n",
    "#move_to_canvas_origin(\"red\")\n",
    "#move_to_canvas_xaxis(\"red\")\n",
    "#move_to_canvas_yaxis(\"red\")\n",
    "#attention!! dont directly do move_to_canvas after these!! \n",
    "#move_to_canvas_origin(\"red\")\n",
    "#move_home()\n",
    "\n",
    "\n",
    "\n",
    "\n"
   ]
  },
  {
   "cell_type": "code",
   "execution_count": 28,
   "metadata": {
    "scrolled": true
   },
   "outputs": [
    {
     "name": "stdout",
     "output_type": "stream",
     "text": [
      "Move to home\n",
      "ERROR: 'stroke'\n",
      "Move to home\n"
     ]
    }
   ],
   "source": [
    "# This would be the full program\n",
    "\n",
    "try:\n",
    "    move_home()\n",
    "    paths, attributes = svg2paths('Swirl.svg') #painting to paint       \n",
    "    #paths, attributes = svg2paths(sys.argv[1])\n",
    "    paint_svg(paths, attributes)\n",
    "except Exception as e:\n",
    "    print(\"ERROR:\", e)\n",
    "    #raw_input(\"Press enter to continue... \")\n",
    "    \n",
    "\n",
    "#move_to_canvas()\n",
    "move_home()\n",
    "\n",
    "#%%\n",
    "\n",
    "#r.stopj()\n",
    "#p = r.getl()\n",
    "#print \"Tool pose is: \", np.array(p)\n",
    "#print \"Robot joints: \", r.getj()\n",
    "\n",
    "#    r.secmon.close()\n",
    "#    r.rtmon.close()\n",
    "#    r = None\n",
    "#    sleep(2)"
   ]
  },
  {
   "cell_type": "code",
   "execution_count": 77,
   "metadata": {},
   "outputs": [
    {
     "name": "stdout",
     "output_type": "stream",
     "text": [
      "Current brush: black\n",
      "Set base coordiante system\n",
      "Calibrate brush\n",
      "  Move over calibration point\n"
     ]
    },
    {
     "ename": "TypeError",
     "evalue": "str.format() argument after * must be an iterable, not PoseVector",
     "output_type": "error",
     "traceback": [
      "\u001b[31m---------------------------------------------------------------------------\u001b[39m",
      "\u001b[31mTypeError\u001b[39m                                 Traceback (most recent call last)",
      "\u001b[36mCell\u001b[39m\u001b[36m \u001b[39m\u001b[32mIn[77]\u001b[39m\u001b[32m, line 16\u001b[39m\n\u001b[32m      9\u001b[39m \u001b[38;5;66;03m#print \"Please calibrate only one brush at a time\"\u001b[39;00m\n\u001b[32m     10\u001b[39m \u001b[38;5;66;03m#print \"Current brusddh:\", currentBrush\u001b[39;00m\n\u001b[32m     11\u001b[39m \n\u001b[32m     12\u001b[39m \u001b[38;5;66;03m#robot drives into home and then to brush calibration\u001b[39;00m\n\u001b[32m     13\u001b[39m \u001b[38;5;66;03m#move_home()\u001b[39;00m\n\u001b[32m     14\u001b[39m \u001b[38;5;66;03m#move_to_paint()\u001b[39;00m\n\u001b[32m     15\u001b[39m \u001b[38;5;28mprint\u001b[39m(\u001b[33m\"\u001b[39m\u001b[33mCurrent brush:\u001b[39m\u001b[33m\"\u001b[39m, currentBrush)\n\u001b[32m---> \u001b[39m\u001b[32m16\u001b[39m \u001b[43mmove_to_brush_calibration\u001b[49m\u001b[43m(\u001b[49m\u001b[43mcurrentBrush\u001b[49m\u001b[43m)\u001b[49m\n\u001b[32m     19\u001b[39m r0=-\u001b[32m0.935\u001b[39m\n\u001b[32m     20\u001b[39m r1=\u001b[32m28.0\u001b[39m\n",
      "\u001b[36mCell\u001b[39m\u001b[36m \u001b[39m\u001b[32mIn[75]\u001b[39m\u001b[32m, line 11\u001b[39m, in \u001b[36mmove_to_brush_calibration\u001b[39m\u001b[34m(stroke)\u001b[39m\n\u001b[32m      9\u001b[39m r.movej(brush_calib_above, acc=a, vel=v)\n\u001b[32m     10\u001b[39m \u001b[38;5;66;03m#   Select brush\u001b[39;00m\n\u001b[32m---> \u001b[39m\u001b[32m11\u001b[39m \u001b[43mr\u001b[49m\u001b[43m.\u001b[49m\u001b[43mset_tcp\u001b[49m\u001b[43m(\u001b[49m\u001b[43mbrush\u001b[49m\u001b[43m[\u001b[49m\u001b[43mstroke\u001b[49m\u001b[43m]\u001b[49m\u001b[43m)\u001b[49m  \u001b[38;5;66;03m# Convert PoseVector (Transform) to iterable\u001b[39;00m\n\u001b[32m     12\u001b[39m r.movel(brush_calib_above, acc=a, vel=v)\n\u001b[32m     13\u001b[39m \u001b[38;5;66;03m#   Move into color\u001b[39;00m\n",
      "\u001b[36mFile \u001b[39m\u001b[32m~/workspace/paintrobot/python-urx/urx/robot.py:42\u001b[39m, in \u001b[36mRobot.set_tcp\u001b[39m\u001b[34m(self, tcp)\u001b[39m\n\u001b[32m     40\u001b[39m \u001b[38;5;28;01mif\u001b[39;00m \u001b[38;5;28misinstance\u001b[39m(tcp, m3d.Transform):\n\u001b[32m     41\u001b[39m     tcp = tcp.pose_vector\n\u001b[32m---> \u001b[39m\u001b[32m42\u001b[39m \u001b[43mURRobot\u001b[49m\u001b[43m.\u001b[49m\u001b[43mset_tcp\u001b[49m\u001b[43m(\u001b[49m\u001b[38;5;28;43mself\u001b[39;49m\u001b[43m,\u001b[49m\u001b[43m \u001b[49m\u001b[43mtcp\u001b[49m\u001b[43m)\u001b[49m\n",
      "\u001b[36mFile \u001b[39m\u001b[32m~/workspace/paintrobot/python-urx/urx/urrobot.py:109\u001b[39m, in \u001b[36mURRobot.set_tcp\u001b[39m\u001b[34m(self, tcp)\u001b[39m\n\u001b[32m    105\u001b[39m \u001b[38;5;28;01mdef\u001b[39;00m\u001b[38;5;250m \u001b[39m\u001b[34mset_tcp\u001b[39m(\u001b[38;5;28mself\u001b[39m, tcp):\n\u001b[32m    106\u001b[39m \u001b[38;5;250m    \u001b[39m\u001b[33;03m\"\"\"\u001b[39;00m\n\u001b[32m    107\u001b[39m \u001b[33;03m    set robot flange to tool tip transformation\u001b[39;00m\n\u001b[32m    108\u001b[39m \u001b[33;03m    \"\"\"\u001b[39;00m\n\u001b[32m--> \u001b[39m\u001b[32m109\u001b[39m     prog = \u001b[33;43m\"\u001b[39;49m\u001b[33;43mset_tcp(p[\u001b[39;49m\u001b[38;5;132;43;01m{}\u001b[39;49;00m\u001b[33;43m, \u001b[39;49m\u001b[38;5;132;43;01m{}\u001b[39;49;00m\u001b[33;43m, \u001b[39;49m\u001b[38;5;132;43;01m{}\u001b[39;49;00m\u001b[33;43m, \u001b[39;49m\u001b[38;5;132;43;01m{}\u001b[39;49;00m\u001b[33;43m, \u001b[39;49m\u001b[38;5;132;43;01m{}\u001b[39;49;00m\u001b[33;43m, \u001b[39;49m\u001b[38;5;132;43;01m{}\u001b[39;49;00m\u001b[33;43m])\u001b[39;49m\u001b[33;43m\"\u001b[39;49m\u001b[43m.\u001b[49m\u001b[43mformat\u001b[49m\u001b[43m(\u001b[49m\u001b[43m*\u001b[49m\u001b[43mtcp\u001b[49m\u001b[43m)\u001b[49m\n\u001b[32m    110\u001b[39m     \u001b[38;5;28mself\u001b[39m.send_program(prog)\n",
      "\u001b[31mTypeError\u001b[39m: str.format() argument after * must be an iterable, not PoseVector"
     ]
    }
   ],
   "source": [
    "#interactive calibration tool\n",
    "#examplecode https://blog.dominodatalab.com/interactive-dashboards-in-jupyter/\n",
    "\n",
    "from ipywidgets import *\n",
    "from IPython.display import display\n",
    "\n",
    "currentBrush=\"black\"\n",
    "\n",
    "#print \"Please calibrate only one brush at a time\"\n",
    "#print \"Current brusddh:\", currentBrush\n",
    "\n",
    "#robot drives into home and then to brush calibration\n",
    "#move_home()\n",
    "#move_to_paint()\n",
    "print(\"Current brush:\", currentBrush)\n",
    "move_to_brush_calibration(currentBrush)\n",
    "\n",
    "\n",
    "r0=-0.935\n",
    "r1=28.0\n",
    "r2=0.140\n",
    "\n",
    "y0=0.09\n",
    "y1=27\n",
    "y2=0.138\n",
    "\n",
    "blu0=1\n",
    "blu1=29\n",
    "blu2=0.139\n",
    "\n",
    "bla0=2.1\n",
    "bla1=29\n",
    "bla2=0.139\n",
    "\n",
    "def redefineBrush():\n",
    "    global brush\n",
    "    brush = {   \"red\":    brush_transform(r0, r1 * np.pi / 180, r2),\n",
    "                \"yellow\": brush_transform( y0, y1 * np.pi / 180, y2),\n",
    "                \"blue\":   brush_transform( blu0, blu1 * np.pi / 180, blu2),\n",
    "                \"black\":  brush_transform( bla0, bla1 * np.pi / 180, bla2)}\n",
    "\n",
    "def create0String():\n",
    "    if currentBrush == \"red\":\n",
    "        return \"r0 ==\" + str(r0) + \", modify it below and press enter\"\n",
    "    elif currentBrush ==\"yellow\":\n",
    "        return \"y0 ==\" + str(y0) + \", modify it below and press enter\"\n",
    "    elif currentBrush ==\"blue\":\n",
    "        return \"blu0 ==\" + str(blu0) + \", modify it below and press enter\"\n",
    "    elif currentBrush ==\"black\":\n",
    "        return \"bla0 ==\" + str(bla0) + \", modify it below and press enter\"\n",
    "    else:\n",
    "        return \"No valid brush specified\"\n",
    "\n",
    "def handle_submit0(sender):\n",
    "    if currentBrush ==\"red\":\n",
    "        global r0\n",
    "        r0=float(text0.value)\n",
    "    elif currentBrush ==\"yellow\":\n",
    "        global y0\n",
    "        y0=float(text0.value)\n",
    "    elif currentBrush ==\"blue\":\n",
    "        global blu0\n",
    "        blu0=float(text0.value)\n",
    "    elif currentBrush ==\"black\":\n",
    "        global bla0\n",
    "        bla0=float(text0.value)\n",
    "    outputText0.value = create0String()\n",
    "\n",
    "def create1String():\n",
    "    if currentBrush ==\"red\":\n",
    "        return \"r1 ==\" + str(r1) + \", modify it below and press enter\"\n",
    "    elif currentBrush ==\"yellow\":\n",
    "        return \"y1 ==\" + str(y1) + \", modify it below and press enter\"\n",
    "    elif currentBrush ==\"blue\":\n",
    "        return \"blu1 ==\" + str(blu1) + \", modify it below and press enter\"\n",
    "    elif currentBrush ==\"black\":\n",
    "        return \"bla1 ==\" + str(bla1) + \", modify it below and press enter\"\n",
    "    else:\n",
    "        return \"No valid brush specified\"\n",
    "\n",
    "def handle_submit1(sender):\n",
    "    if currentBrush ==\"red\":\n",
    "        global r1\n",
    "        r1=float(text1.value)\n",
    "    elif currentBrush ==\"yellow\":\n",
    "        global y1\n",
    "        y1=float(text1.value)\n",
    "    elif currentBrush ==\"blue\":\n",
    "        global blu1\n",
    "        blu1=float(text1.value)\n",
    "    elif currentBrush ==\"black\":\n",
    "        global bla1\n",
    "        bla1=float(text1.value)\n",
    "    outputText1.value = create1String()\n",
    "\n",
    "def create2String():\n",
    "    if currentBrush ==\"red\":\n",
    "        return \"r2 ==\" + str(r2) + \", modify it below and press enter\"\n",
    "    elif currentBrush ==\"yellow\":\n",
    "        return \"y2 ==\" + str(y2) + \", modify it below and press enter\"\n",
    "    elif currentBrush ==\"blue\":\n",
    "        return \"blu2 ==\" + str(blu2) + \", modify it below and press enter\"\n",
    "    elif currentBrush ==\"black\":\n",
    "        return \"bla2 ==\" + str(bla2) + \", modify it below and press enter\"\n",
    "    else:\n",
    "        return \"No valid brush specified\"\n",
    "    \n",
    "def handle_submit2(sender):\n",
    "    if currentBrush ==\"red\":\n",
    "        global r2\n",
    "        r2=float(text2.value)\n",
    "    elif currentBrush ==\"yellow\":\n",
    "        global y2\n",
    "        y2=float(text2.value)\n",
    "    elif currentBrush ==\"blue\":\n",
    "        global blu2\n",
    "        blu2=float(text2.value)\n",
    "    elif currentBrush ==\"black\":\n",
    "        global bla2\n",
    "        bla2=float(text2.value)\n",
    "    outputText2.value = create2String()\n",
    "\n",
    "# def on_button_clicked(b):  # ISSUE: TypeError: 'PoseVector' object is not iterable\n",
    "#     redefineBrush()\n",
    "#     r.set_tcp(brush[currentBrush])\n",
    "#     r.movel(brush_calib_down, acc=a/2, vel=v/4)\n",
    "    \n",
    "# possible fix:\n",
    "def on_button_clicked(b):\n",
    "    redefineBrush()\n",
    "    pose = brush[currentBrush].pose_vector.tolist()\n",
    "    r.set_tcp(pose)\n",
    "    r.movel(brush_calib_down.pose_vector.tolist(), acc=a/2, vel=v/4)\n",
    "\n",
    "\n",
    "\n",
    "\n",
    "    \n",
    "#first value, x0\n",
    "outputText0 = widgets.Text()\n",
    "outputText0.value = create0String()\n",
    "display(outputText0)\n",
    "text0 = widgets.Text()\n",
    "display(text0)\n",
    "text0.on_submit(handle_submit0)    \n",
    "\n",
    "#second value, x1 \n",
    "outputText1 = widgets.Text()\n",
    "outputText1.value = create1String()\n",
    "display(outputText1)\n",
    "text1 = widgets.Text()\n",
    "display(text1)\n",
    "text1.on_submit(handle_submit1)    \n",
    "\n",
    "#second value, x2    \n",
    "outputText2 = widgets.Text()\n",
    "outputText2.value = create2String()\n",
    "display(outputText2)\n",
    "text2 = widgets.Text()\n",
    "display(text2)\n",
    "text2.on_submit(handle_submit2)\n",
    "\n",
    "buttonstring = \"redo \" + currentBrush\n",
    "button = widgets.Button(description = buttonstring)\n",
    "display(button)\n",
    "button.on_click(on_button_clicked)\n",
    "\n",
    "#print \"Don't forget to save your values!\\n\"\n",
    "\n",
    "   \n"
   ]
  },
  {
   "cell_type": "code",
   "execution_count": null,
   "metadata": {},
   "outputs": [],
   "source": [
    "#calibration for canvas\n",
    "#change values (small changes!! scale is meter!) and test\n",
    "\n",
    "p0 = m3d.Transform(( 0.534,  0.230,  0.677, -1.497,  1.332, -1.134))\n",
    "px = m3d.Transform(( 0.549, -0.509,  0.669, -1.497,  1.332, -1.134))\n",
    "py = m3d.Transform(( 0.430,  0.230,  0.137, -1.497,  1.333, -1.134))\n",
    "\n",
    "#if it was before at the canvas withdraw it a bit first\n",
    "#move_to_canvas_xaxis(\"red\")\n",
    "#move_to_canvas_origin(\"red\")\n",
    "\n",
    "#if it was somewhere else drive it to home first\n",
    "#move_home()\n",
    "#move_to_canvas()\n",
    "\n",
    "#for p0\n",
    "#move_to_canvas_origin(\"red\")\n",
    "#r.set_csys(m3d.Transform())\n",
    "#r.movep(p0, vel=v)\n",
    "\n",
    "#away from p0 (afterwards home is possible)\n",
    "#move_to_canvas_origin(\"red\")\n",
    "\n",
    "#for px\n",
    "#move_to_canvas_origin(\"red\")\n",
    "#move_to_canvas_xaxis(\"red\")\n",
    "#r.set_csys(m3d.Transform())\n",
    "#r.movep(px, vel=v)\n",
    "\n",
    "#away from px (afterwards home is possible)\n",
    "#move_to_canvas_xaxis(\"red\")\n",
    "#move_to_canvas_origin(\"red\")\n",
    "\n",
    "#for py\n",
    "#move_to_canvas_origin(\"red\")\n",
    "#move_to_canvas_yaxis(\"red\")\n",
    "\n",
    "#r.set_csys(m3d.Transform())\n",
    "#r.movep(py, vel=v)\n",
    "\n",
    "#away from py\n",
    "#move_to_canvas_yaxis(\"red\")\n",
    "#move_to_canvas_origin(\"red\")\n",
    "#move_home()"
   ]
  },
  {
   "cell_type": "code",
   "execution_count": 27,
   "metadata": {},
   "outputs": [
    {
     "data": {
      "image/svg+xml": [
       "<svg xmlns=\"http://www.w3.org/2000/svg\" id=\"Ebene_1\" data-name=\"Ebene 1\" viewBox=\"0 0 345.88 251.03\">\n",
       "  <defs>\n",
       "    <style>\n",
       "      .cls-1 {\n",
       "        fill: #fff;\n",
       "        stroke: #1d1d1b;\n",
       "        stroke-miterlimit: 10;\n",
       "      }\n",
       "    </style>\n",
       "  </defs>\n",
       "  <path class=\"cls-1\" d=\"M.41,105.25C75.51-2.34,204.5-25,277.8,27.86c57.86,41.72,86.47,134.43,53.91,181.74-55.88,81.22-291.71,28.25-306.96-43.48C13.45,112.94,116.54,17.22,188.31,41.77c60.85,20.82,110.15,102.97,67.75,138.26-40.11,33.39-184.73,2.01-92.17-54.52\"/>\n",
       "</svg>"
      ],
      "text/plain": [
       "<IPython.core.display.SVG object>"
      ]
     },
     "execution_count": 27,
     "metadata": {},
     "output_type": "execute_result"
    }
   ],
   "source": [
    "from IPython.display import SVG\n",
    "def show_svg():\n",
    "    return SVG(\"Swirl.svg\")\n",
    "\n",
    "show_svg()"
   ]
  },
  {
   "cell_type": "code",
   "execution_count": null,
   "metadata": {},
   "outputs": [],
   "source": [
    "# Always remember to close the communication to the robot and have not more than one instances running\n",
    "r.secmon.close()\n",
    "r.rtmon.close()\n",
    "r = None\n",
    "sleep(2)"
   ]
  },
  {
   "cell_type": "code",
   "execution_count": null,
   "metadata": {},
   "outputs": [],
   "source": []
  }
 ],
 "metadata": {
  "kernelspec": {
   "display_name": ".venv",
   "language": "python",
   "name": "python3"
  },
  "language_info": {
   "codemirror_mode": {
    "name": "ipython",
    "version": 3
   },
   "file_extension": ".py",
   "mimetype": "text/x-python",
   "name": "python",
   "nbconvert_exporter": "python",
   "pygments_lexer": "ipython3",
   "version": "3.12.3"
  }
 },
 "nbformat": 4,
 "nbformat_minor": 2
}
