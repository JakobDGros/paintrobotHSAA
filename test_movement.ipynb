{
 "cells": [
  {
   "cell_type": "code",
   "execution_count": 1,
   "metadata": {},
   "outputs": [],
   "source": [
    "# import statments\n",
    "\n",
    "import numpy as np\n",
    "import math3d as m3d\n",
    "import math\n",
    "import sys\n",
    "from time import sleep\n",
    "from svgpathtools import svg2paths, Arc, Line, QuadraticBezier, CubicBezier"
   ]
  },
  {
   "cell_type": "code",
   "execution_count": null,
   "metadata": {},
   "outputs": [],
   "source": [
    "# import urx module via local path from https://github.com/jkur/python-urx\n",
    "\n",
    "import sys\n",
    "import os\n",
    "\n",
    "# Add the path to the urx module manually\n",
    "sys.path.append(os.path.abspath(\"../python-urx\"))\n",
    "\n",
    "import urx\n",
    "\n",
    "# Connect to the robot \n",
    "# ! Sometimes the robot does not connect properly, so you need to run the script multiple times\n",
    "\n",
    "np.set_printoptions(precision=3)\n",
    "r = urx.Robot(\"192.168.1.3\", use_rt=False)\n",
    "r.set_tcp((0, 0, 0.15, 0, 0, 0))\n",
    "r.set_payload(0.1)\n",
    "sleep(0.2)"
   ]
  },
  {
   "cell_type": "code",
   "execution_count": null,
   "metadata": {},
   "outputs": [
    {
     "data": {
      "text/plain": [
       "[8.130792411975563e-05,\n",
       " -1.5707951694779076,\n",
       " -0.00010694313095882535,\n",
       " -1.5707366150675917,\n",
       " 8.749961853027344e-05,\n",
       " -6.133714784795075e-05]"
      ]
     },
     "execution_count": 11,
     "metadata": {},
     "output_type": "execute_result"
    }
   ],
   "source": [
    "# Move robot to the home position\n",
    "r.movej( (0, -math.pi/2,  0, -math.pi/2, 0, 0), acc=0.9, vel=0.2, threshold=0.1) # URRobot.movej(self, joints, acc, vel, wait, relative, threshold)     "
   ]
  },
  {
   "cell_type": "code",
   "execution_count": 8,
   "metadata": {},
   "outputs": [],
   "source": [
    "# This cloeses the connection to the robot\n",
    "r.secmon.close()\n",
    "#r.rtmon.close()\n",
    "r = None\n",
    "sleep(2)"
   ]
  }
 ],
 "metadata": {
  "kernelspec": {
   "display_name": ".venv",
   "language": "python",
   "name": "python3"
  },
  "language_info": {
   "codemirror_mode": {
    "name": "ipython",
    "version": 3
   },
   "file_extension": ".py",
   "mimetype": "text/x-python",
   "name": "python",
   "nbconvert_exporter": "python",
   "pygments_lexer": "ipython3",
   "version": "3.12.3"
  }
 },
 "nbformat": 4,
 "nbformat_minor": 2
}
